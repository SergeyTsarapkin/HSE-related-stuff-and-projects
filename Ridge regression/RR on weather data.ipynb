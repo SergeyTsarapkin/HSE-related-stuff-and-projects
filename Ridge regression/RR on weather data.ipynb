{
 "cells": [
  {
   "cell_type": "code",
   "execution_count": 1,
   "id": "ab7f7435",
   "metadata": {},
   "outputs": [],
   "source": [
    "import pandas as pd\n",
    "import numpy as np"
   ]
  },
  {
   "cell_type": "code",
   "execution_count": 2,
   "id": "ab26a648",
   "metadata": {},
   "outputs": [
    {
     "data": {
      "text/plain": [
       "STATION              3\n",
       "NAME                 3\n",
       "LATITUDE             3\n",
       "LONGITUDE            3\n",
       "ELEVATION            3\n",
       "PRCP               450\n",
       "PRCP_ATTRIBUTES      8\n",
       "SNWD                13\n",
       "SNWD_ATTRIBUTES      1\n",
       "TAVG               343\n",
       "TAVG_ATTRIBUTES      1\n",
       "TMAX               403\n",
       "TMAX_ATTRIBUTES      7\n",
       "TMIN               321\n",
       "TMIN_ATTRIBUTES      9\n",
       "dtype: int64"
      ]
     },
     "execution_count": 2,
     "metadata": {},
     "output_type": "execute_result"
    }
   ],
   "source": [
    "df = pd.read_csv('Rome_weather_data.csv', index_col='DATE', low_memory=False)\n",
    "df.nunique()"
   ]
  },
  {
   "cell_type": "code",
   "execution_count": 3,
   "id": "ccdcee4e",
   "metadata": {},
   "outputs": [
    {
     "data": {
      "text/html": [
       "<div>\n",
       "<style scoped>\n",
       "    .dataframe tbody tr th:only-of-type {\n",
       "        vertical-align: middle;\n",
       "    }\n",
       "\n",
       "    .dataframe tbody tr th {\n",
       "        vertical-align: top;\n",
       "    }\n",
       "\n",
       "    .dataframe thead th {\n",
       "        text-align: right;\n",
       "    }\n",
       "</style>\n",
       "<table border=\"1\" class=\"dataframe\">\n",
       "  <thead>\n",
       "    <tr style=\"text-align: right;\">\n",
       "      <th></th>\n",
       "      <th>STATION</th>\n",
       "      <th>NAME</th>\n",
       "      <th>LATITUDE</th>\n",
       "      <th>LONGITUDE</th>\n",
       "      <th>ELEVATION</th>\n",
       "      <th>PRCP</th>\n",
       "      <th>PRCP_ATTRIBUTES</th>\n",
       "      <th>SNWD</th>\n",
       "      <th>SNWD_ATTRIBUTES</th>\n",
       "      <th>TAVG</th>\n",
       "      <th>TAVG_ATTRIBUTES</th>\n",
       "      <th>TMAX</th>\n",
       "      <th>TMAX_ATTRIBUTES</th>\n",
       "      <th>TMIN</th>\n",
       "      <th>TMIN_ATTRIBUTES</th>\n",
       "    </tr>\n",
       "    <tr>\n",
       "      <th>DATE</th>\n",
       "      <th></th>\n",
       "      <th></th>\n",
       "      <th></th>\n",
       "      <th></th>\n",
       "      <th></th>\n",
       "      <th></th>\n",
       "      <th></th>\n",
       "      <th></th>\n",
       "      <th></th>\n",
       "      <th></th>\n",
       "      <th></th>\n",
       "      <th></th>\n",
       "      <th></th>\n",
       "      <th></th>\n",
       "      <th></th>\n",
       "    </tr>\n",
       "  </thead>\n",
       "  <tbody>\n",
       "    <tr>\n",
       "      <th>1951-03-01</th>\n",
       "      <td>IT000016239</td>\n",
       "      <td>ROMA CIAMPINO, IT</td>\n",
       "      <td>41.7831</td>\n",
       "      <td>12.5831</td>\n",
       "      <td>105.0</td>\n",
       "      <td>0.2</td>\n",
       "      <td>,,E</td>\n",
       "      <td>NaN</td>\n",
       "      <td>NaN</td>\n",
       "      <td>NaN</td>\n",
       "      <td>NaN</td>\n",
       "      <td>13.2</td>\n",
       "      <td>,,E</td>\n",
       "      <td>3.0</td>\n",
       "      <td>,,E</td>\n",
       "    </tr>\n",
       "    <tr>\n",
       "      <th>1951-03-02</th>\n",
       "      <td>IT000016239</td>\n",
       "      <td>ROMA CIAMPINO, IT</td>\n",
       "      <td>41.7831</td>\n",
       "      <td>12.5831</td>\n",
       "      <td>105.0</td>\n",
       "      <td>0.0</td>\n",
       "      <td>,,E</td>\n",
       "      <td>NaN</td>\n",
       "      <td>NaN</td>\n",
       "      <td>NaN</td>\n",
       "      <td>NaN</td>\n",
       "      <td>10.5</td>\n",
       "      <td>,,E</td>\n",
       "      <td>2.0</td>\n",
       "      <td>,,E</td>\n",
       "    </tr>\n",
       "    <tr>\n",
       "      <th>1951-03-03</th>\n",
       "      <td>IT000016239</td>\n",
       "      <td>ROMA CIAMPINO, IT</td>\n",
       "      <td>41.7831</td>\n",
       "      <td>12.5831</td>\n",
       "      <td>105.0</td>\n",
       "      <td>0.0</td>\n",
       "      <td>,,E</td>\n",
       "      <td>NaN</td>\n",
       "      <td>NaN</td>\n",
       "      <td>NaN</td>\n",
       "      <td>NaN</td>\n",
       "      <td>8.6</td>\n",
       "      <td>,,E</td>\n",
       "      <td>-1.4</td>\n",
       "      <td>,,E</td>\n",
       "    </tr>\n",
       "    <tr>\n",
       "      <th>1951-03-04</th>\n",
       "      <td>IT000016239</td>\n",
       "      <td>ROMA CIAMPINO, IT</td>\n",
       "      <td>41.7831</td>\n",
       "      <td>12.5831</td>\n",
       "      <td>105.0</td>\n",
       "      <td>0.0</td>\n",
       "      <td>,,E</td>\n",
       "      <td>NaN</td>\n",
       "      <td>NaN</td>\n",
       "      <td>NaN</td>\n",
       "      <td>NaN</td>\n",
       "      <td>13.6</td>\n",
       "      <td>,,E</td>\n",
       "      <td>-2.0</td>\n",
       "      <td>,,E</td>\n",
       "    </tr>\n",
       "    <tr>\n",
       "      <th>1951-03-05</th>\n",
       "      <td>IT000016239</td>\n",
       "      <td>ROMA CIAMPINO, IT</td>\n",
       "      <td>41.7831</td>\n",
       "      <td>12.5831</td>\n",
       "      <td>105.0</td>\n",
       "      <td>0.1</td>\n",
       "      <td>,,E</td>\n",
       "      <td>NaN</td>\n",
       "      <td>NaN</td>\n",
       "      <td>NaN</td>\n",
       "      <td>NaN</td>\n",
       "      <td>15.2</td>\n",
       "      <td>,,E</td>\n",
       "      <td>2.7</td>\n",
       "      <td>,,E</td>\n",
       "    </tr>\n",
       "  </tbody>\n",
       "</table>\n",
       "</div>"
      ],
      "text/plain": [
       "                STATION               NAME  LATITUDE  LONGITUDE  ELEVATION  \\\n",
       "DATE                                                                         \n",
       "1951-03-01  IT000016239  ROMA CIAMPINO, IT   41.7831    12.5831      105.0   \n",
       "1951-03-02  IT000016239  ROMA CIAMPINO, IT   41.7831    12.5831      105.0   \n",
       "1951-03-03  IT000016239  ROMA CIAMPINO, IT   41.7831    12.5831      105.0   \n",
       "1951-03-04  IT000016239  ROMA CIAMPINO, IT   41.7831    12.5831      105.0   \n",
       "1951-03-05  IT000016239  ROMA CIAMPINO, IT   41.7831    12.5831      105.0   \n",
       "\n",
       "            PRCP PRCP_ATTRIBUTES  SNWD SNWD_ATTRIBUTES  TAVG TAVG_ATTRIBUTES  \\\n",
       "DATE                                                                           \n",
       "1951-03-01   0.2             ,,E   NaN             NaN   NaN             NaN   \n",
       "1951-03-02   0.0             ,,E   NaN             NaN   NaN             NaN   \n",
       "1951-03-03   0.0             ,,E   NaN             NaN   NaN             NaN   \n",
       "1951-03-04   0.0             ,,E   NaN             NaN   NaN             NaN   \n",
       "1951-03-05   0.1             ,,E   NaN             NaN   NaN             NaN   \n",
       "\n",
       "            TMAX TMAX_ATTRIBUTES  TMIN TMIN_ATTRIBUTES  \n",
       "DATE                                                    \n",
       "1951-03-01  13.2             ,,E   3.0             ,,E  \n",
       "1951-03-02  10.5             ,,E   2.0             ,,E  \n",
       "1951-03-03   8.6             ,,E  -1.4             ,,E  \n",
       "1951-03-04  13.6             ,,E  -2.0             ,,E  \n",
       "1951-03-05  15.2             ,,E   2.7             ,,E  "
      ]
     },
     "execution_count": 3,
     "metadata": {},
     "output_type": "execute_result"
    }
   ],
   "source": [
    "df.sort_index(inplace=True)\n",
    "df.head()"
   ]
  },
  {
   "cell_type": "code",
   "execution_count": 4,
   "id": "86f696c3",
   "metadata": {
    "scrolled": true
   },
   "outputs": [
    {
     "data": {
      "text/html": [
       "<div>\n",
       "<style scoped>\n",
       "    .dataframe tbody tr th:only-of-type {\n",
       "        vertical-align: middle;\n",
       "    }\n",
       "\n",
       "    .dataframe tbody tr th {\n",
       "        vertical-align: top;\n",
       "    }\n",
       "\n",
       "    .dataframe thead th {\n",
       "        text-align: right;\n",
       "    }\n",
       "</style>\n",
       "<table border=\"1\" class=\"dataframe\">\n",
       "  <thead>\n",
       "    <tr style=\"text-align: right;\">\n",
       "      <th></th>\n",
       "      <th>LATITUDE</th>\n",
       "      <th>LONGITUDE</th>\n",
       "      <th>ELEVATION</th>\n",
       "      <th>PRCP</th>\n",
       "      <th>SNWD</th>\n",
       "      <th>TAVG</th>\n",
       "      <th>TMAX</th>\n",
       "      <th>TMIN</th>\n",
       "    </tr>\n",
       "    <tr>\n",
       "      <th>DATE</th>\n",
       "      <th></th>\n",
       "      <th></th>\n",
       "      <th></th>\n",
       "      <th></th>\n",
       "      <th></th>\n",
       "      <th></th>\n",
       "      <th></th>\n",
       "      <th></th>\n",
       "    </tr>\n",
       "  </thead>\n",
       "  <tbody>\n",
       "    <tr>\n",
       "      <th>1951-03-01</th>\n",
       "      <td>41.7831</td>\n",
       "      <td>12.5831</td>\n",
       "      <td>105.0</td>\n",
       "      <td>0.2</td>\n",
       "      <td>NaN</td>\n",
       "      <td>NaN</td>\n",
       "      <td>13.2</td>\n",
       "      <td>3.0</td>\n",
       "    </tr>\n",
       "    <tr>\n",
       "      <th>1951-03-02</th>\n",
       "      <td>41.7831</td>\n",
       "      <td>12.5831</td>\n",
       "      <td>105.0</td>\n",
       "      <td>0.0</td>\n",
       "      <td>NaN</td>\n",
       "      <td>NaN</td>\n",
       "      <td>10.5</td>\n",
       "      <td>2.0</td>\n",
       "    </tr>\n",
       "    <tr>\n",
       "      <th>1951-03-03</th>\n",
       "      <td>41.7831</td>\n",
       "      <td>12.5831</td>\n",
       "      <td>105.0</td>\n",
       "      <td>0.0</td>\n",
       "      <td>NaN</td>\n",
       "      <td>NaN</td>\n",
       "      <td>8.6</td>\n",
       "      <td>-1.4</td>\n",
       "    </tr>\n",
       "    <tr>\n",
       "      <th>1951-03-04</th>\n",
       "      <td>41.7831</td>\n",
       "      <td>12.5831</td>\n",
       "      <td>105.0</td>\n",
       "      <td>0.0</td>\n",
       "      <td>NaN</td>\n",
       "      <td>NaN</td>\n",
       "      <td>13.6</td>\n",
       "      <td>-2.0</td>\n",
       "    </tr>\n",
       "    <tr>\n",
       "      <th>1951-03-05</th>\n",
       "      <td>41.7831</td>\n",
       "      <td>12.5831</td>\n",
       "      <td>105.0</td>\n",
       "      <td>0.1</td>\n",
       "      <td>NaN</td>\n",
       "      <td>NaN</td>\n",
       "      <td>15.2</td>\n",
       "      <td>2.7</td>\n",
       "    </tr>\n",
       "  </tbody>\n",
       "</table>\n",
       "</div>"
      ],
      "text/plain": [
       "            LATITUDE  LONGITUDE  ELEVATION  PRCP  SNWD  TAVG  TMAX  TMIN\n",
       "DATE                                                                    \n",
       "1951-03-01   41.7831    12.5831      105.0   0.2   NaN   NaN  13.2   3.0\n",
       "1951-03-02   41.7831    12.5831      105.0   0.0   NaN   NaN  10.5   2.0\n",
       "1951-03-03   41.7831    12.5831      105.0   0.0   NaN   NaN   8.6  -1.4\n",
       "1951-03-04   41.7831    12.5831      105.0   0.0   NaN   NaN  13.6  -2.0\n",
       "1951-03-05   41.7831    12.5831      105.0   0.1   NaN   NaN  15.2   2.7"
      ]
     },
     "execution_count": 4,
     "metadata": {},
     "output_type": "execute_result"
    }
   ],
   "source": [
    "df = df.groupby(df.index).mean()\n",
    "df.head()"
   ]
  },
  {
   "cell_type": "code",
   "execution_count": 5,
   "id": "25fa7bbb",
   "metadata": {
    "scrolled": true
   },
   "outputs": [
    {
     "data": {
      "text/plain": [
       "LATITUDE     0.000000\n",
       "LONGITUDE    0.000000\n",
       "ELEVATION    0.000000\n",
       "PRCP         0.007624\n",
       "SNWD         0.998966\n",
       "TAVG         0.181327\n",
       "TMAX         0.004751\n",
       "TMIN         0.026282\n",
       "dtype: float64"
      ]
     },
     "execution_count": 5,
     "metadata": {},
     "output_type": "execute_result"
    }
   ],
   "source": [
    "df.isnull().sum()/df.shape[0]"
   ]
  },
  {
   "cell_type": "code",
   "execution_count": 6,
   "id": "6a184f64",
   "metadata": {},
   "outputs": [],
   "source": [
    "core_df = df[['PRCP', 'SNWD', 'TMAX', 'TMIN']].copy()"
   ]
  },
  {
   "cell_type": "code",
   "execution_count": 7,
   "id": "c82ea2d2",
   "metadata": {},
   "outputs": [],
   "source": [
    "core_df.columns = ['precip', 'snow_depth', 'temp_max', 'temp_min']"
   ]
  },
  {
   "cell_type": "code",
   "execution_count": 8,
   "id": "edac437c",
   "metadata": {},
   "outputs": [
    {
     "data": {
      "text/html": [
       "<div>\n",
       "<style scoped>\n",
       "    .dataframe tbody tr th:only-of-type {\n",
       "        vertical-align: middle;\n",
       "    }\n",
       "\n",
       "    .dataframe tbody tr th {\n",
       "        vertical-align: top;\n",
       "    }\n",
       "\n",
       "    .dataframe thead th {\n",
       "        text-align: right;\n",
       "    }\n",
       "</style>\n",
       "<table border=\"1\" class=\"dataframe\">\n",
       "  <thead>\n",
       "    <tr style=\"text-align: right;\">\n",
       "      <th></th>\n",
       "      <th>precip</th>\n",
       "      <th>snow_depth</th>\n",
       "      <th>temp_max</th>\n",
       "      <th>temp_min</th>\n",
       "    </tr>\n",
       "    <tr>\n",
       "      <th>DATE</th>\n",
       "      <th></th>\n",
       "      <th></th>\n",
       "      <th></th>\n",
       "      <th></th>\n",
       "    </tr>\n",
       "  </thead>\n",
       "  <tbody>\n",
       "    <tr>\n",
       "      <th>1951-03-01</th>\n",
       "      <td>0.2</td>\n",
       "      <td>NaN</td>\n",
       "      <td>13.2</td>\n",
       "      <td>3.0</td>\n",
       "    </tr>\n",
       "    <tr>\n",
       "      <th>1951-03-02</th>\n",
       "      <td>0.0</td>\n",
       "      <td>NaN</td>\n",
       "      <td>10.5</td>\n",
       "      <td>2.0</td>\n",
       "    </tr>\n",
       "    <tr>\n",
       "      <th>1951-03-03</th>\n",
       "      <td>0.0</td>\n",
       "      <td>NaN</td>\n",
       "      <td>8.6</td>\n",
       "      <td>-1.4</td>\n",
       "    </tr>\n",
       "    <tr>\n",
       "      <th>1951-03-04</th>\n",
       "      <td>0.0</td>\n",
       "      <td>NaN</td>\n",
       "      <td>13.6</td>\n",
       "      <td>-2.0</td>\n",
       "    </tr>\n",
       "    <tr>\n",
       "      <th>1951-03-05</th>\n",
       "      <td>0.1</td>\n",
       "      <td>NaN</td>\n",
       "      <td>15.2</td>\n",
       "      <td>2.7</td>\n",
       "    </tr>\n",
       "  </tbody>\n",
       "</table>\n",
       "</div>"
      ],
      "text/plain": [
       "            precip  snow_depth  temp_max  temp_min\n",
       "DATE                                              \n",
       "1951-03-01     0.2         NaN      13.2       3.0\n",
       "1951-03-02     0.0         NaN      10.5       2.0\n",
       "1951-03-03     0.0         NaN       8.6      -1.4\n",
       "1951-03-04     0.0         NaN      13.6      -2.0\n",
       "1951-03-05     0.1         NaN      15.2       2.7"
      ]
     },
     "execution_count": 8,
     "metadata": {},
     "output_type": "execute_result"
    }
   ],
   "source": [
    "core_df.head()"
   ]
  },
  {
   "cell_type": "code",
   "execution_count": 9,
   "id": "ecb78ab6",
   "metadata": {},
   "outputs": [
    {
     "data": {
      "text/plain": [
       "precip        0.007624\n",
       "snow_depth    0.998966\n",
       "temp_max      0.004751\n",
       "temp_min      0.026282\n",
       "dtype: float64"
      ]
     },
     "execution_count": 9,
     "metadata": {},
     "output_type": "execute_result"
    }
   ],
   "source": [
    "core_df.isnull().sum()/core_df.shape[0]"
   ]
  },
  {
   "cell_type": "code",
   "execution_count": 10,
   "id": "152b7f17",
   "metadata": {},
   "outputs": [],
   "source": [
    "del core_df['snow_depth']"
   ]
  },
  {
   "cell_type": "code",
   "execution_count": 11,
   "id": "9b7c424c",
   "metadata": {},
   "outputs": [
    {
     "data": {
      "text/html": [
       "<div>\n",
       "<style scoped>\n",
       "    .dataframe tbody tr th:only-of-type {\n",
       "        vertical-align: middle;\n",
       "    }\n",
       "\n",
       "    .dataframe tbody tr th {\n",
       "        vertical-align: top;\n",
       "    }\n",
       "\n",
       "    .dataframe thead th {\n",
       "        text-align: right;\n",
       "    }\n",
       "</style>\n",
       "<table border=\"1\" class=\"dataframe\">\n",
       "  <thead>\n",
       "    <tr style=\"text-align: right;\">\n",
       "      <th></th>\n",
       "      <th>precip</th>\n",
       "      <th>temp_max</th>\n",
       "      <th>temp_min</th>\n",
       "    </tr>\n",
       "    <tr>\n",
       "      <th>DATE</th>\n",
       "      <th></th>\n",
       "      <th></th>\n",
       "      <th></th>\n",
       "    </tr>\n",
       "  </thead>\n",
       "  <tbody>\n",
       "    <tr>\n",
       "      <th>1978-10-10</th>\n",
       "      <td>9.6</td>\n",
       "      <td>22.25</td>\n",
       "      <td>12.10</td>\n",
       "    </tr>\n",
       "    <tr>\n",
       "      <th>1978-10-11</th>\n",
       "      <td>0.0</td>\n",
       "      <td>24.10</td>\n",
       "      <td>11.90</td>\n",
       "    </tr>\n",
       "    <tr>\n",
       "      <th>1978-10-12</th>\n",
       "      <td>0.0</td>\n",
       "      <td>25.20</td>\n",
       "      <td>12.50</td>\n",
       "    </tr>\n",
       "    <tr>\n",
       "      <th>1978-10-13</th>\n",
       "      <td>0.0</td>\n",
       "      <td>24.85</td>\n",
       "      <td>12.75</td>\n",
       "    </tr>\n",
       "    <tr>\n",
       "      <th>1978-10-14</th>\n",
       "      <td>NaN</td>\n",
       "      <td>23.70</td>\n",
       "      <td>12.40</td>\n",
       "    </tr>\n",
       "    <tr>\n",
       "      <th>1978-10-15</th>\n",
       "      <td>NaN</td>\n",
       "      <td>23.25</td>\n",
       "      <td>11.45</td>\n",
       "    </tr>\n",
       "    <tr>\n",
       "      <th>1978-10-16</th>\n",
       "      <td>0.0</td>\n",
       "      <td>21.85</td>\n",
       "      <td>11.10</td>\n",
       "    </tr>\n",
       "    <tr>\n",
       "      <th>1978-10-17</th>\n",
       "      <td>NaN</td>\n",
       "      <td>20.20</td>\n",
       "      <td>9.90</td>\n",
       "    </tr>\n",
       "    <tr>\n",
       "      <th>1978-10-18</th>\n",
       "      <td>NaN</td>\n",
       "      <td>20.40</td>\n",
       "      <td>12.60</td>\n",
       "    </tr>\n",
       "    <tr>\n",
       "      <th>1978-10-19</th>\n",
       "      <td>NaN</td>\n",
       "      <td>22.45</td>\n",
       "      <td>12.55</td>\n",
       "    </tr>\n",
       "    <tr>\n",
       "      <th>1978-10-20</th>\n",
       "      <td>NaN</td>\n",
       "      <td>19.90</td>\n",
       "      <td>13.95</td>\n",
       "    </tr>\n",
       "    <tr>\n",
       "      <th>1978-10-21</th>\n",
       "      <td>19.2</td>\n",
       "      <td>19.60</td>\n",
       "      <td>11.80</td>\n",
       "    </tr>\n",
       "    <tr>\n",
       "      <th>1978-10-22</th>\n",
       "      <td>19.2</td>\n",
       "      <td>18.75</td>\n",
       "      <td>9.10</td>\n",
       "    </tr>\n",
       "    <tr>\n",
       "      <th>1978-10-23</th>\n",
       "      <td>19.2</td>\n",
       "      <td>19.80</td>\n",
       "      <td>7.00</td>\n",
       "    </tr>\n",
       "    <tr>\n",
       "      <th>1978-10-24</th>\n",
       "      <td>19.2</td>\n",
       "      <td>21.20</td>\n",
       "      <td>8.80</td>\n",
       "    </tr>\n",
       "    <tr>\n",
       "      <th>1978-10-25</th>\n",
       "      <td>19.2</td>\n",
       "      <td>19.45</td>\n",
       "      <td>8.45</td>\n",
       "    </tr>\n",
       "  </tbody>\n",
       "</table>\n",
       "</div>"
      ],
      "text/plain": [
       "            precip  temp_max  temp_min\n",
       "DATE                                  \n",
       "1978-10-10     9.6     22.25     12.10\n",
       "1978-10-11     0.0     24.10     11.90\n",
       "1978-10-12     0.0     25.20     12.50\n",
       "1978-10-13     0.0     24.85     12.75\n",
       "1978-10-14     NaN     23.70     12.40\n",
       "1978-10-15     NaN     23.25     11.45\n",
       "1978-10-16     0.0     21.85     11.10\n",
       "1978-10-17     NaN     20.20      9.90\n",
       "1978-10-18     NaN     20.40     12.60\n",
       "1978-10-19     NaN     22.45     12.55\n",
       "1978-10-20     NaN     19.90     13.95\n",
       "1978-10-21    19.2     19.60     11.80\n",
       "1978-10-22    19.2     18.75      9.10\n",
       "1978-10-23    19.2     19.80      7.00\n",
       "1978-10-24    19.2     21.20      8.80\n",
       "1978-10-25    19.2     19.45      8.45"
      ]
     },
     "execution_count": 11,
     "metadata": {},
     "output_type": "execute_result"
    }
   ],
   "source": [
    "core_df.loc['1978-10-10':'1978-10-25',:]"
   ]
  },
  {
   "cell_type": "code",
   "execution_count": 12,
   "id": "d42902ee",
   "metadata": {},
   "outputs": [
    {
     "data": {
      "text/html": [
       "<div>\n",
       "<style scoped>\n",
       "    .dataframe tbody tr th:only-of-type {\n",
       "        vertical-align: middle;\n",
       "    }\n",
       "\n",
       "    .dataframe tbody tr th {\n",
       "        vertical-align: top;\n",
       "    }\n",
       "\n",
       "    .dataframe thead th {\n",
       "        text-align: right;\n",
       "    }\n",
       "</style>\n",
       "<table border=\"1\" class=\"dataframe\">\n",
       "  <thead>\n",
       "    <tr style=\"text-align: right;\">\n",
       "      <th></th>\n",
       "      <th>count</th>\n",
       "      <th>mean</th>\n",
       "      <th>std</th>\n",
       "      <th>min</th>\n",
       "      <th>25%</th>\n",
       "      <th>50%</th>\n",
       "      <th>75%</th>\n",
       "      <th>max</th>\n",
       "    </tr>\n",
       "  </thead>\n",
       "  <tbody>\n",
       "    <tr>\n",
       "      <th>precip</th>\n",
       "      <td>25903.0</td>\n",
       "      <td>2.251032</td>\n",
       "      <td>6.821218</td>\n",
       "      <td>0.00</td>\n",
       "      <td>0.0</td>\n",
       "      <td>0.0</td>\n",
       "      <td>0.50</td>\n",
       "      <td>213.0</td>\n",
       "    </tr>\n",
       "    <tr>\n",
       "      <th>temp_max</th>\n",
       "      <td>25978.0</td>\n",
       "      <td>20.821832</td>\n",
       "      <td>20.607915</td>\n",
       "      <td>-2.15</td>\n",
       "      <td>14.1</td>\n",
       "      <td>19.6</td>\n",
       "      <td>26.50</td>\n",
       "      <td>999.0</td>\n",
       "    </tr>\n",
       "    <tr>\n",
       "      <th>temp_min</th>\n",
       "      <td>25416.0</td>\n",
       "      <td>11.679143</td>\n",
       "      <td>24.055091</td>\n",
       "      <td>-7.70</td>\n",
       "      <td>5.9</td>\n",
       "      <td>10.6</td>\n",
       "      <td>15.95</td>\n",
       "      <td>999.0</td>\n",
       "    </tr>\n",
       "  </tbody>\n",
       "</table>\n",
       "</div>"
      ],
      "text/plain": [
       "            count       mean        std   min   25%   50%    75%    max\n",
       "precip    25903.0   2.251032   6.821218  0.00   0.0   0.0   0.50  213.0\n",
       "temp_max  25978.0  20.821832  20.607915 -2.15  14.1  19.6  26.50  999.0\n",
       "temp_min  25416.0  11.679143  24.055091 -7.70   5.9  10.6  15.95  999.0"
      ]
     },
     "execution_count": 12,
     "metadata": {},
     "output_type": "execute_result"
    }
   ],
   "source": [
    "core_df.describe().transpose()"
   ]
  },
  {
   "cell_type": "code",
   "execution_count": 13,
   "id": "72bc66a3",
   "metadata": {},
   "outputs": [
    {
     "data": {
      "text/plain": [
       "precip      199\n",
       "temp_max    124\n",
       "temp_min    686\n",
       "dtype: int64"
      ]
     },
     "execution_count": 13,
     "metadata": {},
     "output_type": "execute_result"
    }
   ],
   "source": [
    "core_df.apply(pd.isnull).sum()"
   ]
  },
  {
   "cell_type": "code",
   "execution_count": 14,
   "id": "526efca3",
   "metadata": {},
   "outputs": [],
   "source": [
    "core_df.index = pd.to_datetime(core_df.index)"
   ]
  },
  {
   "cell_type": "code",
   "execution_count": 15,
   "id": "4c8bba8a",
   "metadata": {},
   "outputs": [
    {
     "data": {
      "text/plain": [
       "<AxesSubplot:xlabel='DATE'>"
      ]
     },
     "execution_count": 15,
     "metadata": {},
     "output_type": "execute_result"
    },
    {
     "data": {
      "image/png": "[encoded data removed]",
      "text/plain": [
       "<Figure size 432x288 with 1 Axes>"
      ]
     },
     "metadata": {},
     "output_type": "display_data"
    }
   ],
   "source": [
    "core_df[['temp_max']].plot()"
   ]
  },
  {
   "cell_type": "code",
   "execution_count": 16,
   "id": "c28e9da6",
   "metadata": {},
   "outputs": [
    {
     "data": {
      "text/plain": [
       "precip      0\n",
       "temp_max    3\n",
       "temp_min    4\n",
       "dtype: int64"
      ]
     },
     "execution_count": 16,
     "metadata": {},
     "output_type": "execute_result"
    }
   ],
   "source": [
    "core_df.apply(lambda x: (x==999).sum())"
   ]
  },
  {
   "cell_type": "code",
   "execution_count": 17,
   "id": "34a8491b",
   "metadata": {},
   "outputs": [],
   "source": [
    "core_df[core_df['temp_max'] == 999] = np.nan\n",
    "core_df[core_df['temp_min'] == 999] = np.nan"
   ]
  },
  {
   "cell_type": "code",
   "execution_count": 18,
   "id": "7ac78a2e",
   "metadata": {},
   "outputs": [
    {
     "data": {
      "text/html": [
       "<div>\n",
       "<style scoped>\n",
       "    .dataframe tbody tr th:only-of-type {\n",
       "        vertical-align: middle;\n",
       "    }\n",
       "\n",
       "    .dataframe tbody tr th {\n",
       "        vertical-align: top;\n",
       "    }\n",
       "\n",
       "    .dataframe thead th {\n",
       "        text-align: right;\n",
       "    }\n",
       "</style>\n",
       "<table border=\"1\" class=\"dataframe\">\n",
       "  <thead>\n",
       "    <tr style=\"text-align: right;\">\n",
       "      <th></th>\n",
       "      <th>count</th>\n",
       "      <th>mean</th>\n",
       "      <th>std</th>\n",
       "      <th>min</th>\n",
       "      <th>25%</th>\n",
       "      <th>50%</th>\n",
       "      <th>75%</th>\n",
       "      <th>max</th>\n",
       "    </tr>\n",
       "  </thead>\n",
       "  <tbody>\n",
       "    <tr>\n",
       "      <th>precip</th>\n",
       "      <td>25903.0</td>\n",
       "      <td>2.251032</td>\n",
       "      <td>6.821218</td>\n",
       "      <td>0.00</td>\n",
       "      <td>0.0</td>\n",
       "      <td>0.0</td>\n",
       "      <td>0.50</td>\n",
       "      <td>213.0</td>\n",
       "    </tr>\n",
       "    <tr>\n",
       "      <th>temp_max</th>\n",
       "      <td>25974.0</td>\n",
       "      <td>20.709138</td>\n",
       "      <td>17.726202</td>\n",
       "      <td>-2.15</td>\n",
       "      <td>14.1</td>\n",
       "      <td>19.6</td>\n",
       "      <td>26.50</td>\n",
       "      <td>515.2</td>\n",
       "    </tr>\n",
       "    <tr>\n",
       "      <th>temp_min</th>\n",
       "      <td>25412.0</td>\n",
       "      <td>11.523733</td>\n",
       "      <td>20.622042</td>\n",
       "      <td>-7.70</td>\n",
       "      <td>5.9</td>\n",
       "      <td>10.6</td>\n",
       "      <td>15.95</td>\n",
       "      <td>508.7</td>\n",
       "    </tr>\n",
       "  </tbody>\n",
       "</table>\n",
       "</div>"
      ],
      "text/plain": [
       "            count       mean        std   min   25%   50%    75%    max\n",
       "precip    25903.0   2.251032   6.821218  0.00   0.0   0.0   0.50  213.0\n",
       "temp_max  25974.0  20.709138  17.726202 -2.15  14.1  19.6  26.50  515.2\n",
       "temp_min  25412.0  11.523733  20.622042 -7.70   5.9  10.6  15.95  508.7"
      ]
     },
     "execution_count": 18,
     "metadata": {},
     "output_type": "execute_result"
    }
   ],
   "source": [
    "core_df.describe().transpose()"
   ]
  },
  {
   "cell_type": "code",
   "execution_count": 19,
   "id": "45d37f3a",
   "metadata": {},
   "outputs": [],
   "source": [
    "def IQR_calc(column):\n",
    "    Q1 = core_df[column].quantile(0.25)\n",
    "    Q3 = core_df[column].quantile(0.75)\n",
    "    return Q3 - Q1"
   ]
  },
  {
   "cell_type": "code",
   "execution_count": 20,
   "id": "130fc320",
   "metadata": {},
   "outputs": [],
   "source": [
    "IQR_temp_min = IQR_calc('temp_min')\n",
    "\n",
    "lower_lim_min = core_df['temp_min'].quantile(0.25) - 5 * IQR_temp_min\n",
    "upper_lim_min = core_df['temp_min'].quantile(0.75) + 5 * IQR_temp_min\n",
    "\n",
    "IQR_temp_max = IQR_calc('temp_max')\n",
    "\n",
    "lower_lim_max = core_df['temp_max'].quantile(0.25) - 5 *IQR_temp_max\n",
    "upper_lim_max = core_df['temp_max'].quantile(0.75) + 5 *IQR_temp_max"
   ]
  },
  {
   "cell_type": "code",
   "execution_count": 21,
   "id": "71ba8b51",
   "metadata": {},
   "outputs": [],
   "source": [
    "core_df.loc[core_df['temp_max'] > upper_lim_max, 'temp_max'] = np.nan\n",
    "core_df.loc[core_df['temp_max'] < lower_lim_max, 'temp_max'] = np.nan\n",
    "core_df.loc[core_df['temp_min'] > upper_lim_min, 'temp_min'] = np.nan\n",
    "core_df.loc[core_df['temp_min'] < lower_lim_max, 'temp_min'] = np.nan\n",
    "#core_df.loc[core_df['precip'] > upper_lim_precip, 'precip'] = np.nan\n",
    "#core_df.loc[core_df['precip'] < lower_lim_precip, 'precip'] = np.nan\n"
   ]
  },
  {
   "cell_type": "code",
   "execution_count": 22,
   "id": "a594238e",
   "metadata": {},
   "outputs": [],
   "source": [
    "core_df.ffill(axis=0, inplace=True)"
   ]
  },
  {
   "cell_type": "code",
   "execution_count": 23,
   "id": "564bfaef",
   "metadata": {},
   "outputs": [],
   "source": [
    "core_df['target'] = core_df.shift(-1)['temp_max']"
   ]
  },
  {
   "cell_type": "code",
   "execution_count": 24,
   "id": "029b3da6",
   "metadata": {},
   "outputs": [
    {
     "data": {
      "text/html": [
       "<div>\n",
       "<style scoped>\n",
       "    .dataframe tbody tr th:only-of-type {\n",
       "        vertical-align: middle;\n",
       "    }\n",
       "\n",
       "    .dataframe tbody tr th {\n",
       "        vertical-align: top;\n",
       "    }\n",
       "\n",
       "    .dataframe thead th {\n",
       "        text-align: right;\n",
       "    }\n",
       "</style>\n",
       "<table border=\"1\" class=\"dataframe\">\n",
       "  <thead>\n",
       "    <tr style=\"text-align: right;\">\n",
       "      <th></th>\n",
       "      <th>precip</th>\n",
       "      <th>temp_max</th>\n",
       "      <th>temp_min</th>\n",
       "      <th>target</th>\n",
       "    </tr>\n",
       "    <tr>\n",
       "      <th>DATE</th>\n",
       "      <th></th>\n",
       "      <th></th>\n",
       "      <th></th>\n",
       "      <th></th>\n",
       "    </tr>\n",
       "  </thead>\n",
       "  <tbody>\n",
       "    <tr>\n",
       "      <th>1951-03-01</th>\n",
       "      <td>0.20</td>\n",
       "      <td>13.200000</td>\n",
       "      <td>3.000000</td>\n",
       "      <td>10.500000</td>\n",
       "    </tr>\n",
       "    <tr>\n",
       "      <th>1951-03-02</th>\n",
       "      <td>0.00</td>\n",
       "      <td>10.500000</td>\n",
       "      <td>2.000000</td>\n",
       "      <td>8.600000</td>\n",
       "    </tr>\n",
       "    <tr>\n",
       "      <th>1951-03-03</th>\n",
       "      <td>0.00</td>\n",
       "      <td>8.600000</td>\n",
       "      <td>-1.400000</td>\n",
       "      <td>13.600000</td>\n",
       "    </tr>\n",
       "    <tr>\n",
       "      <th>1951-03-04</th>\n",
       "      <td>0.00</td>\n",
       "      <td>13.600000</td>\n",
       "      <td>-2.000000</td>\n",
       "      <td>15.200000</td>\n",
       "    </tr>\n",
       "    <tr>\n",
       "      <th>1951-03-05</th>\n",
       "      <td>0.10</td>\n",
       "      <td>15.200000</td>\n",
       "      <td>2.700000</td>\n",
       "      <td>18.000000</td>\n",
       "    </tr>\n",
       "    <tr>\n",
       "      <th>...</th>\n",
       "      <td>...</td>\n",
       "      <td>...</td>\n",
       "      <td>...</td>\n",
       "      <td>...</td>\n",
       "    </tr>\n",
       "    <tr>\n",
       "      <th>2022-08-15</th>\n",
       "      <td>0.00</td>\n",
       "      <td>30.633333</td>\n",
       "      <td>20.366667</td>\n",
       "      <td>31.266667</td>\n",
       "    </tr>\n",
       "    <tr>\n",
       "      <th>2022-08-16</th>\n",
       "      <td>0.50</td>\n",
       "      <td>31.266667</td>\n",
       "      <td>21.666667</td>\n",
       "      <td>33.500000</td>\n",
       "    </tr>\n",
       "    <tr>\n",
       "      <th>2022-08-17</th>\n",
       "      <td>0.15</td>\n",
       "      <td>33.500000</td>\n",
       "      <td>23.400000</td>\n",
       "      <td>34.800000</td>\n",
       "    </tr>\n",
       "    <tr>\n",
       "      <th>2022-08-18</th>\n",
       "      <td>0.00</td>\n",
       "      <td>34.800000</td>\n",
       "      <td>24.300000</td>\n",
       "      <td>28.400000</td>\n",
       "    </tr>\n",
       "    <tr>\n",
       "      <th>2022-08-19</th>\n",
       "      <td>3.55</td>\n",
       "      <td>28.400000</td>\n",
       "      <td>21.000000</td>\n",
       "      <td>NaN</td>\n",
       "    </tr>\n",
       "  </tbody>\n",
       "</table>\n",
       "<p>26102 rows × 4 columns</p>\n",
       "</div>"
      ],
      "text/plain": [
       "            precip   temp_max   temp_min     target\n",
       "DATE                                               \n",
       "1951-03-01    0.20  13.200000   3.000000  10.500000\n",
       "1951-03-02    0.00  10.500000   2.000000   8.600000\n",
       "1951-03-03    0.00   8.600000  -1.400000  13.600000\n",
       "1951-03-04    0.00  13.600000  -2.000000  15.200000\n",
       "1951-03-05    0.10  15.200000   2.700000  18.000000\n",
       "...            ...        ...        ...        ...\n",
       "2022-08-15    0.00  30.633333  20.366667  31.266667\n",
       "2022-08-16    0.50  31.266667  21.666667  33.500000\n",
       "2022-08-17    0.15  33.500000  23.400000  34.800000\n",
       "2022-08-18    0.00  34.800000  24.300000  28.400000\n",
       "2022-08-19    3.55  28.400000  21.000000        NaN\n",
       "\n",
       "[26102 rows x 4 columns]"
      ]
     },
     "execution_count": 24,
     "metadata": {},
     "output_type": "execute_result"
    }
   ],
   "source": [
    "core_df"
   ]
  },
  {
   "cell_type": "code",
   "execution_count": 25,
   "id": "7abf4ec3",
   "metadata": {},
   "outputs": [],
   "source": [
    "core_df = core_df.iloc[:-1,:].copy()"
   ]
  },
  {
   "cell_type": "code",
   "execution_count": 26,
   "id": "29a5c355",
   "metadata": {},
   "outputs": [
    {
     "data": {
      "text/html": [
       "<div>\n",
       "<style scoped>\n",
       "    .dataframe tbody tr th:only-of-type {\n",
       "        vertical-align: middle;\n",
       "    }\n",
       "\n",
       "    .dataframe tbody tr th {\n",
       "        vertical-align: top;\n",
       "    }\n",
       "\n",
       "    .dataframe thead th {\n",
       "        text-align: right;\n",
       "    }\n",
       "</style>\n",
       "<table border=\"1\" class=\"dataframe\">\n",
       "  <thead>\n",
       "    <tr style=\"text-align: right;\">\n",
       "      <th></th>\n",
       "      <th>precip</th>\n",
       "      <th>temp_max</th>\n",
       "      <th>temp_min</th>\n",
       "      <th>target</th>\n",
       "    </tr>\n",
       "    <tr>\n",
       "      <th>DATE</th>\n",
       "      <th></th>\n",
       "      <th></th>\n",
       "      <th></th>\n",
       "      <th></th>\n",
       "    </tr>\n",
       "  </thead>\n",
       "  <tbody>\n",
       "    <tr>\n",
       "      <th>1951-03-01</th>\n",
       "      <td>0.20</td>\n",
       "      <td>13.200000</td>\n",
       "      <td>3.000000</td>\n",
       "      <td>10.500000</td>\n",
       "    </tr>\n",
       "    <tr>\n",
       "      <th>1951-03-02</th>\n",
       "      <td>0.00</td>\n",
       "      <td>10.500000</td>\n",
       "      <td>2.000000</td>\n",
       "      <td>8.600000</td>\n",
       "    </tr>\n",
       "    <tr>\n",
       "      <th>1951-03-03</th>\n",
       "      <td>0.00</td>\n",
       "      <td>8.600000</td>\n",
       "      <td>-1.400000</td>\n",
       "      <td>13.600000</td>\n",
       "    </tr>\n",
       "    <tr>\n",
       "      <th>1951-03-04</th>\n",
       "      <td>0.00</td>\n",
       "      <td>13.600000</td>\n",
       "      <td>-2.000000</td>\n",
       "      <td>15.200000</td>\n",
       "    </tr>\n",
       "    <tr>\n",
       "      <th>1951-03-05</th>\n",
       "      <td>0.10</td>\n",
       "      <td>15.200000</td>\n",
       "      <td>2.700000</td>\n",
       "      <td>18.000000</td>\n",
       "    </tr>\n",
       "    <tr>\n",
       "      <th>...</th>\n",
       "      <td>...</td>\n",
       "      <td>...</td>\n",
       "      <td>...</td>\n",
       "      <td>...</td>\n",
       "    </tr>\n",
       "    <tr>\n",
       "      <th>2022-08-14</th>\n",
       "      <td>0.00</td>\n",
       "      <td>31.450000</td>\n",
       "      <td>17.800000</td>\n",
       "      <td>30.633333</td>\n",
       "    </tr>\n",
       "    <tr>\n",
       "      <th>2022-08-15</th>\n",
       "      <td>0.00</td>\n",
       "      <td>30.633333</td>\n",
       "      <td>20.366667</td>\n",
       "      <td>31.266667</td>\n",
       "    </tr>\n",
       "    <tr>\n",
       "      <th>2022-08-16</th>\n",
       "      <td>0.50</td>\n",
       "      <td>31.266667</td>\n",
       "      <td>21.666667</td>\n",
       "      <td>33.500000</td>\n",
       "    </tr>\n",
       "    <tr>\n",
       "      <th>2022-08-17</th>\n",
       "      <td>0.15</td>\n",
       "      <td>33.500000</td>\n",
       "      <td>23.400000</td>\n",
       "      <td>34.800000</td>\n",
       "    </tr>\n",
       "    <tr>\n",
       "      <th>2022-08-18</th>\n",
       "      <td>0.00</td>\n",
       "      <td>34.800000</td>\n",
       "      <td>24.300000</td>\n",
       "      <td>28.400000</td>\n",
       "    </tr>\n",
       "  </tbody>\n",
       "</table>\n",
       "<p>26101 rows × 4 columns</p>\n",
       "</div>"
      ],
      "text/plain": [
       "            precip   temp_max   temp_min     target\n",
       "DATE                                               \n",
       "1951-03-01    0.20  13.200000   3.000000  10.500000\n",
       "1951-03-02    0.00  10.500000   2.000000   8.600000\n",
       "1951-03-03    0.00   8.600000  -1.400000  13.600000\n",
       "1951-03-04    0.00  13.600000  -2.000000  15.200000\n",
       "1951-03-05    0.10  15.200000   2.700000  18.000000\n",
       "...            ...        ...        ...        ...\n",
       "2022-08-14    0.00  31.450000  17.800000  30.633333\n",
       "2022-08-15    0.00  30.633333  20.366667  31.266667\n",
       "2022-08-16    0.50  31.266667  21.666667  33.500000\n",
       "2022-08-17    0.15  33.500000  23.400000  34.800000\n",
       "2022-08-18    0.00  34.800000  24.300000  28.400000\n",
       "\n",
       "[26101 rows x 4 columns]"
      ]
     },
     "execution_count": 26,
     "metadata": {},
     "output_type": "execute_result"
    }
   ],
   "source": [
    "core_df"
   ]
  },
  {
   "cell_type": "code",
   "execution_count": 27,
   "id": "562e8e6b",
   "metadata": {},
   "outputs": [],
   "source": [
    "from sklearn.linear_model import Ridge\n",
    "reg = Ridge(alpha=0.1)"
   ]
  },
  {
   "cell_type": "code",
   "execution_count": 28,
   "id": "af5024a4",
   "metadata": {},
   "outputs": [],
   "source": [
    "predictors = ['precip', 'temp_max', 'temp_min']"
   ]
  },
  {
   "cell_type": "code",
   "execution_count": 29,
   "id": "bae943ce",
   "metadata": {},
   "outputs": [
    {
     "data": {
      "text/html": [
       "<div>\n",
       "<style scoped>\n",
       "    .dataframe tbody tr th:only-of-type {\n",
       "        vertical-align: middle;\n",
       "    }\n",
       "\n",
       "    .dataframe tbody tr th {\n",
       "        vertical-align: top;\n",
       "    }\n",
       "\n",
       "    .dataframe thead th {\n",
       "        text-align: right;\n",
       "    }\n",
       "</style>\n",
       "<table border=\"1\" class=\"dataframe\">\n",
       "  <thead>\n",
       "    <tr style=\"text-align: right;\">\n",
       "      <th></th>\n",
       "      <th>precip</th>\n",
       "      <th>temp_max</th>\n",
       "      <th>temp_min</th>\n",
       "      <th>target</th>\n",
       "    </tr>\n",
       "    <tr>\n",
       "      <th>DATE</th>\n",
       "      <th></th>\n",
       "      <th></th>\n",
       "      <th></th>\n",
       "      <th></th>\n",
       "    </tr>\n",
       "  </thead>\n",
       "  <tbody>\n",
       "    <tr>\n",
       "      <th>2021-01-01</th>\n",
       "      <td>6.40</td>\n",
       "      <td>11.750000</td>\n",
       "      <td>4.133333</td>\n",
       "      <td>13.000000</td>\n",
       "    </tr>\n",
       "    <tr>\n",
       "      <th>2021-01-02</th>\n",
       "      <td>27.95</td>\n",
       "      <td>13.000000</td>\n",
       "      <td>4.133333</td>\n",
       "      <td>13.000000</td>\n",
       "    </tr>\n",
       "    <tr>\n",
       "      <th>2021-01-03</th>\n",
       "      <td>29.95</td>\n",
       "      <td>13.000000</td>\n",
       "      <td>4.133333</td>\n",
       "      <td>11.266667</td>\n",
       "    </tr>\n",
       "    <tr>\n",
       "      <th>2021-01-04</th>\n",
       "      <td>11.05</td>\n",
       "      <td>11.266667</td>\n",
       "      <td>3.800000</td>\n",
       "      <td>9.400000</td>\n",
       "    </tr>\n",
       "    <tr>\n",
       "      <th>2021-01-05</th>\n",
       "      <td>27.60</td>\n",
       "      <td>9.400000</td>\n",
       "      <td>7.000000</td>\n",
       "      <td>10.700000</td>\n",
       "    </tr>\n",
       "    <tr>\n",
       "      <th>...</th>\n",
       "      <td>...</td>\n",
       "      <td>...</td>\n",
       "      <td>...</td>\n",
       "      <td>...</td>\n",
       "    </tr>\n",
       "    <tr>\n",
       "      <th>2022-08-14</th>\n",
       "      <td>0.00</td>\n",
       "      <td>31.450000</td>\n",
       "      <td>17.800000</td>\n",
       "      <td>30.633333</td>\n",
       "    </tr>\n",
       "    <tr>\n",
       "      <th>2022-08-15</th>\n",
       "      <td>0.00</td>\n",
       "      <td>30.633333</td>\n",
       "      <td>20.366667</td>\n",
       "      <td>31.266667</td>\n",
       "    </tr>\n",
       "    <tr>\n",
       "      <th>2022-08-16</th>\n",
       "      <td>0.50</td>\n",
       "      <td>31.266667</td>\n",
       "      <td>21.666667</td>\n",
       "      <td>33.500000</td>\n",
       "    </tr>\n",
       "    <tr>\n",
       "      <th>2022-08-17</th>\n",
       "      <td>0.15</td>\n",
       "      <td>33.500000</td>\n",
       "      <td>23.400000</td>\n",
       "      <td>34.800000</td>\n",
       "    </tr>\n",
       "    <tr>\n",
       "      <th>2022-08-18</th>\n",
       "      <td>0.00</td>\n",
       "      <td>34.800000</td>\n",
       "      <td>24.300000</td>\n",
       "      <td>28.400000</td>\n",
       "    </tr>\n",
       "  </tbody>\n",
       "</table>\n",
       "<p>592 rows × 4 columns</p>\n",
       "</div>"
      ],
      "text/plain": [
       "            precip   temp_max   temp_min     target\n",
       "DATE                                               \n",
       "2021-01-01    6.40  11.750000   4.133333  13.000000\n",
       "2021-01-02   27.95  13.000000   4.133333  13.000000\n",
       "2021-01-03   29.95  13.000000   4.133333  11.266667\n",
       "2021-01-04   11.05  11.266667   3.800000   9.400000\n",
       "2021-01-05   27.60   9.400000   7.000000  10.700000\n",
       "...            ...        ...        ...        ...\n",
       "2022-08-14    0.00  31.450000  17.800000  30.633333\n",
       "2022-08-15    0.00  30.633333  20.366667  31.266667\n",
       "2022-08-16    0.50  31.266667  21.666667  33.500000\n",
       "2022-08-17    0.15  33.500000  23.400000  34.800000\n",
       "2022-08-18    0.00  34.800000  24.300000  28.400000\n",
       "\n",
       "[592 rows x 4 columns]"
      ]
     },
     "execution_count": 29,
     "metadata": {},
     "output_type": "execute_result"
    }
   ],
   "source": [
    "train = core_df.loc[:'2020-12-31']\n",
    "test = core_df.loc['2021-01-01':]\n",
    "test"
   ]
  },
  {
   "cell_type": "code",
   "execution_count": 30,
   "id": "37d5fa98",
   "metadata": {},
   "outputs": [
    {
     "data": {
      "text/plain": [
       "Ridge(alpha=0.1)"
      ]
     },
     "execution_count": 30,
     "metadata": {},
     "output_type": "execute_result"
    }
   ],
   "source": [
    "reg.fit(train[predictors], train['target'])"
   ]
  },
  {
   "cell_type": "code",
   "execution_count": 31,
   "id": "f549941b",
   "metadata": {},
   "outputs": [],
   "source": [
    "predictions = reg.predict(test[predictors])"
   ]
  },
  {
   "cell_type": "code",
   "execution_count": 32,
   "id": "ece77b02",
   "metadata": {},
   "outputs": [],
   "source": [
    "from sklearn.metrics import mean_absolute_error"
   ]
  },
  {
   "cell_type": "code",
   "execution_count": 33,
   "id": "f1200869",
   "metadata": {},
   "outputs": [
    {
     "data": {
      "text/plain": [
       "1.4014025026125272"
      ]
     },
     "execution_count": 33,
     "metadata": {},
     "output_type": "execute_result"
    }
   ],
   "source": [
    "mean_absolute_error(test['target'], predictions)"
   ]
  },
  {
   "cell_type": "code",
   "execution_count": 34,
   "id": "a14980ff",
   "metadata": {},
   "outputs": [],
   "source": [
    "combined = pd.concat([test['target'], pd.Series(predictions, index=test.index)], axis=1)\n",
    "combined.columns = ['actual', 'prediction']"
   ]
  },
  {
   "cell_type": "code",
   "execution_count": 35,
   "id": "db22bf60",
   "metadata": {},
   "outputs": [
    {
     "data": {
      "text/plain": [
       "<AxesSubplot:xlabel='DATE'>"
      ]
     },
     "execution_count": 35,
     "metadata": {},
     "output_type": "execute_result"
    },
    {
     "data": {
      "image/png": "[encoded data removed]",
      "text/plain": [
       "<Figure size 432x288 with 1 Axes>"
      ]
     },
     "metadata": {},
     "output_type": "display_data"
    }
   ],
   "source": [
    "combined.plot()"
   ]
  },
  {
   "cell_type": "code",
   "execution_count": 36,
   "id": "6d71b835",
   "metadata": {
    "slideshow": {
     "slide_type": "-"
    }
   },
   "outputs": [
    {
     "data": {
      "text/plain": [
       "array([-0.00164009,  0.87332126,  0.11418208])"
      ]
     },
     "execution_count": 36,
     "metadata": {},
     "output_type": "execute_result"
    }
   ],
   "source": [
    "reg.coef_"
   ]
  },
  {
   "cell_type": "code",
   "execution_count": 37,
   "id": "142dc60e",
   "metadata": {},
   "outputs": [],
   "source": [
    "def create_predictions(predictors, core_df, reg):\n",
    "    train = core_df.loc[:'2020-12-31']\n",
    "    test = core_df.loc['2021-01-01':]\n",
    "    reg.fit(train[predictors], train['target'])\n",
    "    predictions = reg.predict(test[predictors])\n",
    "    error = mean_absolute_error(test['target'], predictions)\n",
    "    combined = pd.concat([test['target'], pd.Series(predictions, index=test.index)], axis=1)\n",
    "    combined.columns = ['actual', 'predictions']\n",
    "    return error, combined"
   ]
  },
  {
   "cell_type": "code",
   "execution_count": 38,
   "id": "f650e7b2",
   "metadata": {},
   "outputs": [],
   "source": [
    "core_df['month_max'] = core_df['temp_max'].rolling(30).mean()"
   ]
  },
  {
   "cell_type": "code",
   "execution_count": 39,
   "id": "6bf9ac00",
   "metadata": {},
   "outputs": [
    {
     "data": {
      "text/html": [
       "<div>\n",
       "<style scoped>\n",
       "    .dataframe tbody tr th:only-of-type {\n",
       "        vertical-align: middle;\n",
       "    }\n",
       "\n",
       "    .dataframe tbody tr th {\n",
       "        vertical-align: top;\n",
       "    }\n",
       "\n",
       "    .dataframe thead th {\n",
       "        text-align: right;\n",
       "    }\n",
       "</style>\n",
       "<table border=\"1\" class=\"dataframe\">\n",
       "  <thead>\n",
       "    <tr style=\"text-align: right;\">\n",
       "      <th></th>\n",
       "      <th>precip</th>\n",
       "      <th>temp_max</th>\n",
       "      <th>temp_min</th>\n",
       "      <th>target</th>\n",
       "      <th>month_max</th>\n",
       "    </tr>\n",
       "    <tr>\n",
       "      <th>DATE</th>\n",
       "      <th></th>\n",
       "      <th></th>\n",
       "      <th></th>\n",
       "      <th></th>\n",
       "      <th></th>\n",
       "    </tr>\n",
       "  </thead>\n",
       "  <tbody>\n",
       "    <tr>\n",
       "      <th>2022-08-14</th>\n",
       "      <td>0.00</td>\n",
       "      <td>31.450000</td>\n",
       "      <td>17.800000</td>\n",
       "      <td>30.633333</td>\n",
       "      <td>32.686667</td>\n",
       "    </tr>\n",
       "    <tr>\n",
       "      <th>2022-08-15</th>\n",
       "      <td>0.00</td>\n",
       "      <td>30.633333</td>\n",
       "      <td>20.366667</td>\n",
       "      <td>31.266667</td>\n",
       "      <td>32.636667</td>\n",
       "    </tr>\n",
       "    <tr>\n",
       "      <th>2022-08-16</th>\n",
       "      <td>0.50</td>\n",
       "      <td>31.266667</td>\n",
       "      <td>21.666667</td>\n",
       "      <td>33.500000</td>\n",
       "      <td>32.556667</td>\n",
       "    </tr>\n",
       "    <tr>\n",
       "      <th>2022-08-17</th>\n",
       "      <td>0.15</td>\n",
       "      <td>33.500000</td>\n",
       "      <td>23.400000</td>\n",
       "      <td>34.800000</td>\n",
       "      <td>32.573333</td>\n",
       "    </tr>\n",
       "    <tr>\n",
       "      <th>2022-08-18</th>\n",
       "      <td>0.00</td>\n",
       "      <td>34.800000</td>\n",
       "      <td>24.300000</td>\n",
       "      <td>28.400000</td>\n",
       "      <td>32.560000</td>\n",
       "    </tr>\n",
       "  </tbody>\n",
       "</table>\n",
       "</div>"
      ],
      "text/plain": [
       "            precip   temp_max   temp_min     target  month_max\n",
       "DATE                                                          \n",
       "2022-08-14    0.00  31.450000  17.800000  30.633333  32.686667\n",
       "2022-08-15    0.00  30.633333  20.366667  31.266667  32.636667\n",
       "2022-08-16    0.50  31.266667  21.666667  33.500000  32.556667\n",
       "2022-08-17    0.15  33.500000  23.400000  34.800000  32.573333\n",
       "2022-08-18    0.00  34.800000  24.300000  28.400000  32.560000"
      ]
     },
     "execution_count": 39,
     "metadata": {},
     "output_type": "execute_result"
    }
   ],
   "source": [
    "core_df.tail()"
   ]
  },
  {
   "cell_type": "code",
   "execution_count": 40,
   "id": "5cb2cad1",
   "metadata": {},
   "outputs": [],
   "source": [
    "core_df['month_day_max'] = core_df['month_max'] - core_df['temp_max']"
   ]
  },
  {
   "cell_type": "code",
   "execution_count": 41,
   "id": "11cb6f96",
   "metadata": {},
   "outputs": [],
   "source": [
    "core_df['max_min'] = core_df['temp_max'] - core_df['temp_min']"
   ]
  },
  {
   "cell_type": "code",
   "execution_count": 42,
   "id": "46a90ecf",
   "metadata": {},
   "outputs": [
    {
     "data": {
      "text/html": [
       "<div>\n",
       "<style scoped>\n",
       "    .dataframe tbody tr th:only-of-type {\n",
       "        vertical-align: middle;\n",
       "    }\n",
       "\n",
       "    .dataframe tbody tr th {\n",
       "        vertical-align: top;\n",
       "    }\n",
       "\n",
       "    .dataframe thead th {\n",
       "        text-align: right;\n",
       "    }\n",
       "</style>\n",
       "<table border=\"1\" class=\"dataframe\">\n",
       "  <thead>\n",
       "    <tr style=\"text-align: right;\">\n",
       "      <th></th>\n",
       "      <th>precip</th>\n",
       "      <th>temp_max</th>\n",
       "      <th>temp_min</th>\n",
       "      <th>target</th>\n",
       "      <th>month_max</th>\n",
       "      <th>month_day_max</th>\n",
       "      <th>max_min</th>\n",
       "    </tr>\n",
       "    <tr>\n",
       "      <th>DATE</th>\n",
       "      <th></th>\n",
       "      <th></th>\n",
       "      <th></th>\n",
       "      <th></th>\n",
       "      <th></th>\n",
       "      <th></th>\n",
       "      <th></th>\n",
       "    </tr>\n",
       "  </thead>\n",
       "  <tbody>\n",
       "    <tr>\n",
       "      <th>1951-03-01</th>\n",
       "      <td>0.20</td>\n",
       "      <td>13.200000</td>\n",
       "      <td>3.000000</td>\n",
       "      <td>10.500000</td>\n",
       "      <td>NaN</td>\n",
       "      <td>NaN</td>\n",
       "      <td>10.200000</td>\n",
       "    </tr>\n",
       "    <tr>\n",
       "      <th>1951-03-02</th>\n",
       "      <td>0.00</td>\n",
       "      <td>10.500000</td>\n",
       "      <td>2.000000</td>\n",
       "      <td>8.600000</td>\n",
       "      <td>NaN</td>\n",
       "      <td>NaN</td>\n",
       "      <td>8.500000</td>\n",
       "    </tr>\n",
       "    <tr>\n",
       "      <th>1951-03-03</th>\n",
       "      <td>0.00</td>\n",
       "      <td>8.600000</td>\n",
       "      <td>-1.400000</td>\n",
       "      <td>13.600000</td>\n",
       "      <td>NaN</td>\n",
       "      <td>NaN</td>\n",
       "      <td>10.000000</td>\n",
       "    </tr>\n",
       "    <tr>\n",
       "      <th>1951-03-04</th>\n",
       "      <td>0.00</td>\n",
       "      <td>13.600000</td>\n",
       "      <td>-2.000000</td>\n",
       "      <td>15.200000</td>\n",
       "      <td>NaN</td>\n",
       "      <td>NaN</td>\n",
       "      <td>15.600000</td>\n",
       "    </tr>\n",
       "    <tr>\n",
       "      <th>1951-03-05</th>\n",
       "      <td>0.10</td>\n",
       "      <td>15.200000</td>\n",
       "      <td>2.700000</td>\n",
       "      <td>18.000000</td>\n",
       "      <td>NaN</td>\n",
       "      <td>NaN</td>\n",
       "      <td>12.500000</td>\n",
       "    </tr>\n",
       "    <tr>\n",
       "      <th>...</th>\n",
       "      <td>...</td>\n",
       "      <td>...</td>\n",
       "      <td>...</td>\n",
       "      <td>...</td>\n",
       "      <td>...</td>\n",
       "      <td>...</td>\n",
       "      <td>...</td>\n",
       "    </tr>\n",
       "    <tr>\n",
       "      <th>2022-08-14</th>\n",
       "      <td>0.00</td>\n",
       "      <td>31.450000</td>\n",
       "      <td>17.800000</td>\n",
       "      <td>30.633333</td>\n",
       "      <td>32.686667</td>\n",
       "      <td>1.236667</td>\n",
       "      <td>13.650000</td>\n",
       "    </tr>\n",
       "    <tr>\n",
       "      <th>2022-08-15</th>\n",
       "      <td>0.00</td>\n",
       "      <td>30.633333</td>\n",
       "      <td>20.366667</td>\n",
       "      <td>31.266667</td>\n",
       "      <td>32.636667</td>\n",
       "      <td>2.003333</td>\n",
       "      <td>10.266667</td>\n",
       "    </tr>\n",
       "    <tr>\n",
       "      <th>2022-08-16</th>\n",
       "      <td>0.50</td>\n",
       "      <td>31.266667</td>\n",
       "      <td>21.666667</td>\n",
       "      <td>33.500000</td>\n",
       "      <td>32.556667</td>\n",
       "      <td>1.290000</td>\n",
       "      <td>9.600000</td>\n",
       "    </tr>\n",
       "    <tr>\n",
       "      <th>2022-08-17</th>\n",
       "      <td>0.15</td>\n",
       "      <td>33.500000</td>\n",
       "      <td>23.400000</td>\n",
       "      <td>34.800000</td>\n",
       "      <td>32.573333</td>\n",
       "      <td>-0.926667</td>\n",
       "      <td>10.100000</td>\n",
       "    </tr>\n",
       "    <tr>\n",
       "      <th>2022-08-18</th>\n",
       "      <td>0.00</td>\n",
       "      <td>34.800000</td>\n",
       "      <td>24.300000</td>\n",
       "      <td>28.400000</td>\n",
       "      <td>32.560000</td>\n",
       "      <td>-2.240000</td>\n",
       "      <td>10.500000</td>\n",
       "    </tr>\n",
       "  </tbody>\n",
       "</table>\n",
       "<p>26101 rows × 7 columns</p>\n",
       "</div>"
      ],
      "text/plain": [
       "            precip   temp_max   temp_min     target  month_max  month_day_max  \\\n",
       "DATE                                                                            \n",
       "1951-03-01    0.20  13.200000   3.000000  10.500000        NaN            NaN   \n",
       "1951-03-02    0.00  10.500000   2.000000   8.600000        NaN            NaN   \n",
       "1951-03-03    0.00   8.600000  -1.400000  13.600000        NaN            NaN   \n",
       "1951-03-04    0.00  13.600000  -2.000000  15.200000        NaN            NaN   \n",
       "1951-03-05    0.10  15.200000   2.700000  18.000000        NaN            NaN   \n",
       "...            ...        ...        ...        ...        ...            ...   \n",
       "2022-08-14    0.00  31.450000  17.800000  30.633333  32.686667       1.236667   \n",
       "2022-08-15    0.00  30.633333  20.366667  31.266667  32.636667       2.003333   \n",
       "2022-08-16    0.50  31.266667  21.666667  33.500000  32.556667       1.290000   \n",
       "2022-08-17    0.15  33.500000  23.400000  34.800000  32.573333      -0.926667   \n",
       "2022-08-18    0.00  34.800000  24.300000  28.400000  32.560000      -2.240000   \n",
       "\n",
       "              max_min  \n",
       "DATE                   \n",
       "1951-03-01  10.200000  \n",
       "1951-03-02   8.500000  \n",
       "1951-03-03  10.000000  \n",
       "1951-03-04  15.600000  \n",
       "1951-03-05  12.500000  \n",
       "...               ...  \n",
       "2022-08-14  13.650000  \n",
       "2022-08-15  10.266667  \n",
       "2022-08-16   9.600000  \n",
       "2022-08-17  10.100000  \n",
       "2022-08-18  10.500000  \n",
       "\n",
       "[26101 rows x 7 columns]"
      ]
     },
     "execution_count": 42,
     "metadata": {},
     "output_type": "execute_result"
    }
   ],
   "source": [
    "core_df"
   ]
  },
  {
   "cell_type": "code",
   "execution_count": 43,
   "id": "07ddfb90",
   "metadata": {},
   "outputs": [],
   "source": [
    "core_df = core_df.iloc[30:,:].copy()"
   ]
  },
  {
   "cell_type": "code",
   "execution_count": 44,
   "id": "6065c992",
   "metadata": {},
   "outputs": [
    {
     "data": {
      "text/plain": [
       "13.648333333333335"
      ]
     },
     "execution_count": 44,
     "metadata": {},
     "output_type": "execute_result"
    }
   ],
   "source": [
    "max(core_df['month_day_max'])"
   ]
  },
  {
   "cell_type": "code",
   "execution_count": 45,
   "id": "d5f7e1bd",
   "metadata": {},
   "outputs": [],
   "source": [
    "predictors = ['precip', 'temp_max', 'temp_min', 'month_max', 'month_day_max', 'max_min']"
   ]
  },
  {
   "cell_type": "code",
   "execution_count": 46,
   "id": "3ea6282c",
   "metadata": {
    "scrolled": true
   },
   "outputs": [],
   "source": [
    "error, combined = create_predictions(predictors, core_df, reg)"
   ]
  },
  {
   "cell_type": "code",
   "execution_count": 47,
   "id": "135a7bb1",
   "metadata": {},
   "outputs": [
    {
     "data": {
      "text/plain": [
       "1.3692859035169536"
      ]
     },
     "execution_count": 47,
     "metadata": {},
     "output_type": "execute_result"
    }
   ],
   "source": [
    "error"
   ]
  },
  {
   "cell_type": "code",
   "execution_count": 48,
   "id": "58ef2ec9",
   "metadata": {},
   "outputs": [
    {
     "data": {
      "text/plain": [
       "<AxesSubplot:xlabel='DATE'>"
      ]
     },
     "execution_count": 48,
     "metadata": {},
     "output_type": "execute_result"
    },
    {
     "data": {
      "image/png": "[encoded data removed]",
      "text/plain": [
       "<Figure size 432x288 with 1 Axes>"
      ]
     },
     "metadata": {},
     "output_type": "display_data"
    }
   ],
   "source": [
    "combined.plot()"
   ]
  },
  {
   "cell_type": "code",
   "execution_count": 49,
   "id": "9e0dee71",
   "metadata": {},
   "outputs": [],
   "source": [
    "core_df['monthly_avg'] = core_df['temp_max'].groupby(core_df.index.month).apply(lambda x: x.expanding(1).mean())"
   ]
  },
  {
   "cell_type": "code",
   "execution_count": 50,
   "id": "c1355ef9",
   "metadata": {},
   "outputs": [],
   "source": [
    "core_df['day_of_year_avg'] = core_df['temp_max'].groupby(core_df.index.day_of_year).apply(lambda x: x.expanding(1).mean())"
   ]
  },
  {
   "cell_type": "code",
   "execution_count": 51,
   "id": "03e66013",
   "metadata": {},
   "outputs": [
    {
     "data": {
      "text/html": [
       "<div>\n",
       "<style scoped>\n",
       "    .dataframe tbody tr th:only-of-type {\n",
       "        vertical-align: middle;\n",
       "    }\n",
       "\n",
       "    .dataframe tbody tr th {\n",
       "        vertical-align: top;\n",
       "    }\n",
       "\n",
       "    .dataframe thead th {\n",
       "        text-align: right;\n",
       "    }\n",
       "</style>\n",
       "<table border=\"1\" class=\"dataframe\">\n",
       "  <thead>\n",
       "    <tr style=\"text-align: right;\">\n",
       "      <th></th>\n",
       "      <th>precip</th>\n",
       "      <th>temp_max</th>\n",
       "      <th>temp_min</th>\n",
       "      <th>target</th>\n",
       "      <th>month_max</th>\n",
       "      <th>month_day_max</th>\n",
       "      <th>max_min</th>\n",
       "      <th>monthly_avg</th>\n",
       "      <th>day_of_year_avg</th>\n",
       "    </tr>\n",
       "    <tr>\n",
       "      <th>DATE</th>\n",
       "      <th></th>\n",
       "      <th></th>\n",
       "      <th></th>\n",
       "      <th></th>\n",
       "      <th></th>\n",
       "      <th></th>\n",
       "      <th></th>\n",
       "      <th></th>\n",
       "      <th></th>\n",
       "    </tr>\n",
       "  </thead>\n",
       "  <tbody>\n",
       "    <tr>\n",
       "      <th>1951-03-31</th>\n",
       "      <td>2.80</td>\n",
       "      <td>14.800000</td>\n",
       "      <td>6.400000</td>\n",
       "      <td>17.000000</td>\n",
       "      <td>15.510000</td>\n",
       "      <td>0.710000</td>\n",
       "      <td>8.400000</td>\n",
       "      <td>14.800000</td>\n",
       "      <td>14.800000</td>\n",
       "    </tr>\n",
       "    <tr>\n",
       "      <th>1951-04-01</th>\n",
       "      <td>1.00</td>\n",
       "      <td>17.000000</td>\n",
       "      <td>4.800000</td>\n",
       "      <td>16.800000</td>\n",
       "      <td>15.726667</td>\n",
       "      <td>-1.273333</td>\n",
       "      <td>12.200000</td>\n",
       "      <td>17.000000</td>\n",
       "      <td>17.000000</td>\n",
       "    </tr>\n",
       "    <tr>\n",
       "      <th>1951-04-02</th>\n",
       "      <td>0.00</td>\n",
       "      <td>16.800000</td>\n",
       "      <td>4.500000</td>\n",
       "      <td>15.500000</td>\n",
       "      <td>16.000000</td>\n",
       "      <td>-0.800000</td>\n",
       "      <td>12.300000</td>\n",
       "      <td>16.900000</td>\n",
       "      <td>16.800000</td>\n",
       "    </tr>\n",
       "    <tr>\n",
       "      <th>1951-04-03</th>\n",
       "      <td>0.00</td>\n",
       "      <td>15.500000</td>\n",
       "      <td>4.800000</td>\n",
       "      <td>16.200000</td>\n",
       "      <td>16.063333</td>\n",
       "      <td>0.563333</td>\n",
       "      <td>10.700000</td>\n",
       "      <td>16.433333</td>\n",
       "      <td>15.500000</td>\n",
       "    </tr>\n",
       "    <tr>\n",
       "      <th>1951-04-04</th>\n",
       "      <td>0.10</td>\n",
       "      <td>16.200000</td>\n",
       "      <td>5.200000</td>\n",
       "      <td>20.000000</td>\n",
       "      <td>16.096667</td>\n",
       "      <td>-0.103333</td>\n",
       "      <td>11.000000</td>\n",
       "      <td>16.375000</td>\n",
       "      <td>16.200000</td>\n",
       "    </tr>\n",
       "    <tr>\n",
       "      <th>...</th>\n",
       "      <td>...</td>\n",
       "      <td>...</td>\n",
       "      <td>...</td>\n",
       "      <td>...</td>\n",
       "      <td>...</td>\n",
       "      <td>...</td>\n",
       "      <td>...</td>\n",
       "      <td>...</td>\n",
       "      <td>...</td>\n",
       "    </tr>\n",
       "    <tr>\n",
       "      <th>2022-08-14</th>\n",
       "      <td>0.00</td>\n",
       "      <td>31.450000</td>\n",
       "      <td>17.800000</td>\n",
       "      <td>30.633333</td>\n",
       "      <td>32.686667</td>\n",
       "      <td>1.236667</td>\n",
       "      <td>13.650000</td>\n",
       "      <td>30.138427</td>\n",
       "      <td>30.732870</td>\n",
       "    </tr>\n",
       "    <tr>\n",
       "      <th>2022-08-15</th>\n",
       "      <td>0.00</td>\n",
       "      <td>30.633333</td>\n",
       "      <td>20.366667</td>\n",
       "      <td>31.266667</td>\n",
       "      <td>32.636667</td>\n",
       "      <td>2.003333</td>\n",
       "      <td>10.266667</td>\n",
       "      <td>30.138651</td>\n",
       "      <td>30.769213</td>\n",
       "    </tr>\n",
       "    <tr>\n",
       "      <th>2022-08-16</th>\n",
       "      <td>0.50</td>\n",
       "      <td>31.266667</td>\n",
       "      <td>21.666667</td>\n",
       "      <td>33.500000</td>\n",
       "      <td>32.556667</td>\n",
       "      <td>1.290000</td>\n",
       "      <td>9.600000</td>\n",
       "      <td>30.139160</td>\n",
       "      <td>30.720602</td>\n",
       "    </tr>\n",
       "    <tr>\n",
       "      <th>2022-08-17</th>\n",
       "      <td>0.15</td>\n",
       "      <td>33.500000</td>\n",
       "      <td>23.400000</td>\n",
       "      <td>34.800000</td>\n",
       "      <td>32.573333</td>\n",
       "      <td>-0.926667</td>\n",
       "      <td>10.100000</td>\n",
       "      <td>30.140675</td>\n",
       "      <td>30.254861</td>\n",
       "    </tr>\n",
       "    <tr>\n",
       "      <th>2022-08-18</th>\n",
       "      <td>0.00</td>\n",
       "      <td>34.800000</td>\n",
       "      <td>24.300000</td>\n",
       "      <td>28.400000</td>\n",
       "      <td>32.560000</td>\n",
       "      <td>-2.240000</td>\n",
       "      <td>10.500000</td>\n",
       "      <td>30.142775</td>\n",
       "      <td>29.979861</td>\n",
       "    </tr>\n",
       "  </tbody>\n",
       "</table>\n",
       "<p>26071 rows × 9 columns</p>\n",
       "</div>"
      ],
      "text/plain": [
       "            precip   temp_max   temp_min     target  month_max  month_day_max  \\\n",
       "DATE                                                                            \n",
       "1951-03-31    2.80  14.800000   6.400000  17.000000  15.510000       0.710000   \n",
       "1951-04-01    1.00  17.000000   4.800000  16.800000  15.726667      -1.273333   \n",
       "1951-04-02    0.00  16.800000   4.500000  15.500000  16.000000      -0.800000   \n",
       "1951-04-03    0.00  15.500000   4.800000  16.200000  16.063333       0.563333   \n",
       "1951-04-04    0.10  16.200000   5.200000  20.000000  16.096667      -0.103333   \n",
       "...            ...        ...        ...        ...        ...            ...   \n",
       "2022-08-14    0.00  31.450000  17.800000  30.633333  32.686667       1.236667   \n",
       "2022-08-15    0.00  30.633333  20.366667  31.266667  32.636667       2.003333   \n",
       "2022-08-16    0.50  31.266667  21.666667  33.500000  32.556667       1.290000   \n",
       "2022-08-17    0.15  33.500000  23.400000  34.800000  32.573333      -0.926667   \n",
       "2022-08-18    0.00  34.800000  24.300000  28.400000  32.560000      -2.240000   \n",
       "\n",
       "              max_min  monthly_avg  day_of_year_avg  \n",
       "DATE                                                 \n",
       "1951-03-31   8.400000    14.800000        14.800000  \n",
       "1951-04-01  12.200000    17.000000        17.000000  \n",
       "1951-04-02  12.300000    16.900000        16.800000  \n",
       "1951-04-03  10.700000    16.433333        15.500000  \n",
       "1951-04-04  11.000000    16.375000        16.200000  \n",
       "...               ...          ...              ...  \n",
       "2022-08-14  13.650000    30.138427        30.732870  \n",
       "2022-08-15  10.266667    30.138651        30.769213  \n",
       "2022-08-16   9.600000    30.139160        30.720602  \n",
       "2022-08-17  10.100000    30.140675        30.254861  \n",
       "2022-08-18  10.500000    30.142775        29.979861  \n",
       "\n",
       "[26071 rows x 9 columns]"
      ]
     },
     "execution_count": 51,
     "metadata": {},
     "output_type": "execute_result"
    }
   ],
   "source": [
    "core_df"
   ]
  },
  {
   "cell_type": "code",
   "execution_count": 52,
   "id": "fe36c0fc",
   "metadata": {},
   "outputs": [
    {
     "data": {
      "text/plain": [
       "['precip', 'temp_max', 'temp_min', 'month_max', 'month_day_max', 'max_min']"
      ]
     },
     "execution_count": 52,
     "metadata": {},
     "output_type": "execute_result"
    }
   ],
   "source": [
    "predictors"
   ]
  },
  {
   "cell_type": "code",
   "execution_count": 53,
   "id": "b21797f3",
   "metadata": {},
   "outputs": [],
   "source": [
    "predictors = predictors + ['monthly_avg', 'day_of_year_avg']"
   ]
  },
  {
   "cell_type": "code",
   "execution_count": 55,
   "id": "40bec591",
   "metadata": {},
   "outputs": [],
   "source": [
    "error, combined = create_predictions(predictors, core_df, reg)"
   ]
  },
  {
   "cell_type": "code",
   "execution_count": 56,
   "id": "8b578659",
   "metadata": {},
   "outputs": [
    {
     "data": {
      "text/plain": [
       "1.3552796032906749"
      ]
     },
     "execution_count": 56,
     "metadata": {},
     "output_type": "execute_result"
    }
   ],
   "source": [
    "error"
   ]
  },
  {
   "cell_type": "code",
   "execution_count": 57,
   "id": "fceed76b",
   "metadata": {},
   "outputs": [
    {
     "data": {
      "text/plain": [
       "array([-0.00880023,  0.36526798,  0.21557893,  0.17853438, -0.18673359,\n",
       "        0.14968906,  0.08366777,  0.16616444])"
      ]
     },
     "execution_count": 57,
     "metadata": {},
     "output_type": "execute_result"
    }
   ],
   "source": [
    "reg.coef_"
   ]
  },
  {
   "cell_type": "code",
   "execution_count": 58,
   "id": "4875eced",
   "metadata": {},
   "outputs": [
    {
     "data": {
      "text/plain": [
       "precip            -0.157114\n",
       "temp_max           0.961606\n",
       "temp_min           0.904751\n",
       "target             1.000000\n",
       "month_max          0.895048\n",
       "month_day_max     -0.295884\n",
       "max_min            0.544018\n",
       "monthly_avg        0.911478\n",
       "day_of_year_avg    0.924933\n",
       "Name: target, dtype: float64"
      ]
     },
     "execution_count": 58,
     "metadata": {},
     "output_type": "execute_result"
    }
   ],
   "source": [
    "core_df.corr()['target']"
   ]
  },
  {
   "cell_type": "code",
   "execution_count": 59,
   "id": "0916943e",
   "metadata": {},
   "outputs": [],
   "source": [
    "combined['diff'] = (combined['actual'] - combined['predictions'].abs())"
   ]
  },
  {
   "cell_type": "code",
   "execution_count": 60,
   "id": "48dbea66",
   "metadata": {},
   "outputs": [
    {
     "data": {
      "text/html": [
       "<div>\n",
       "<style scoped>\n",
       "    .dataframe tbody tr th:only-of-type {\n",
       "        vertical-align: middle;\n",
       "    }\n",
       "\n",
       "    .dataframe tbody tr th {\n",
       "        vertical-align: top;\n",
       "    }\n",
       "\n",
       "    .dataframe thead th {\n",
       "        text-align: right;\n",
       "    }\n",
       "</style>\n",
       "<table border=\"1\" class=\"dataframe\">\n",
       "  <thead>\n",
       "    <tr style=\"text-align: right;\">\n",
       "      <th></th>\n",
       "      <th>actual</th>\n",
       "      <th>predictions</th>\n",
       "      <th>diff</th>\n",
       "    </tr>\n",
       "    <tr>\n",
       "      <th>DATE</th>\n",
       "      <th></th>\n",
       "      <th></th>\n",
       "      <th></th>\n",
       "    </tr>\n",
       "  </thead>\n",
       "  <tbody>\n",
       "    <tr>\n",
       "      <th>2022-06-26</th>\n",
       "      <td>38.500000</td>\n",
       "      <td>32.178265</td>\n",
       "      <td>6.321735</td>\n",
       "    </tr>\n",
       "    <tr>\n",
       "      <th>2021-03-29</th>\n",
       "      <td>22.600000</td>\n",
       "      <td>16.360607</td>\n",
       "      <td>6.239393</td>\n",
       "    </tr>\n",
       "    <tr>\n",
       "      <th>2021-11-06</th>\n",
       "      <td>24.633333</td>\n",
       "      <td>18.812522</td>\n",
       "      <td>5.820811</td>\n",
       "    </tr>\n",
       "    <tr>\n",
       "      <th>2021-05-23</th>\n",
       "      <td>28.533333</td>\n",
       "      <td>22.769893</td>\n",
       "      <td>5.763440</td>\n",
       "    </tr>\n",
       "    <tr>\n",
       "      <th>2022-06-01</th>\n",
       "      <td>32.233333</td>\n",
       "      <td>27.347931</td>\n",
       "      <td>4.885403</td>\n",
       "    </tr>\n",
       "  </tbody>\n",
       "</table>\n",
       "</div>"
      ],
      "text/plain": [
       "               actual  predictions      diff\n",
       "DATE                                        \n",
       "2022-06-26  38.500000    32.178265  6.321735\n",
       "2021-03-29  22.600000    16.360607  6.239393\n",
       "2021-11-06  24.633333    18.812522  5.820811\n",
       "2021-05-23  28.533333    22.769893  5.763440\n",
       "2022-06-01  32.233333    27.347931  4.885403"
      ]
     },
     "execution_count": 60,
     "metadata": {},
     "output_type": "execute_result"
    }
   ],
   "source": [
    "combined.sort_values('diff', ascending=False).head()"
   ]
  },
  {
   "cell_type": "code",
   "execution_count": 61,
   "id": "2010e9ad",
   "metadata": {},
   "outputs": [
    {
     "data": {
      "text/plain": [
       "<AxesSubplot:xlabel='DATE'>"
      ]
     },
     "execution_count": 61,
     "metadata": {},
     "output_type": "execute_result"
    },
    {
     "data": {
      "image/png": "[encoded data removed]",
      "text/plain": [
       "<Figure size 432x288 with 1 Axes>"
      ]
     },
     "metadata": {},
     "output_type": "display_data"
    }
   ],
   "source": [
    "combined.plot()"
   ]
  }
 ],
 "metadata": {
  "kernelspec": {
   "display_name": "Python 3 (ipykernel)",
   "language": "python",
   "name": "python3"
  },
  "language_info": {
   "codemirror_mode": {
    "name": "ipython",
    "version": 3
   },
   "file_extension": ".py",
   "mimetype": "text/x-python",
   "name": "python",
   "nbconvert_exporter": "python",
   "pygments_lexer": "ipython3",
   "version": "3.9.12"
  }
 },
 "nbformat": 4,
 "nbformat_minor": 5
}
